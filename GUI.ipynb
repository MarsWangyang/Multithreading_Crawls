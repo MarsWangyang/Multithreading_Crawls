{
 "cells": [
  {
   "cell_type": "code",
   "execution_count": 12,
   "id": "0a67b4dc-a2e6-4b9f-8b42-33f057a77ce2",
   "metadata": {},
   "outputs": [],
   "source": [
    "import os\n",
    "import tkinter as tk\n",
    "import numpy as np\n",
    "from tkinter import filedialog\n",
    "from Documents.multithreading import GoogleNews\n",
    "from Documents.multithreading import INSIDENews\n",
    "import time"
   ]
  },
  {
   "cell_type": "code",
   "execution_count": 15,
   "id": "83aa8ebb-95c8-4e9d-a9a9-f308bdc1d5c9",
   "metadata": {},
   "outputs": [],
   "source": [
    "\n",
    "class App():\n",
    "    def __init__(self):\n",
    "        self.window = tk.Tk()\n",
    "        self.window.title('Lab2')\n",
    "        self.window.geometry('500x300') \n",
    "\n",
    "\n",
    "        self.var_radio = tk.StringVar()    \n",
    "        self.labelSelect = tk.Label(self.window, bg='yellow', width=60, text='您還尚未選取網站！')\n",
    "        self.labelSelect.pack()\n",
    "        radioGoogle = tk.Radiobutton(self.window, text='Google News', variable=self.var_radio, value='Google News', command=self.print_selection)\n",
    "        radioInsideNews = tk.Radiobutton(self.window, text='INSIDE News(AI)', variable=self.var_radio, value='INSIDE News(AI)', command=self.print_selection)\n",
    "        radioGoogle.place(x=155, y=50)\n",
    "        radioInsideNews.place(x=155, y=80)\n",
    "        \n",
    "\n",
    "        labelKeyWord = tk.Label(self.window, text='請輸入您要的新聞關鍵字: ')\n",
    "        labelKeyWord.place(x=155, y=110)\n",
    "        labelPage = tk.Label(self.window, text='請輸入您爬的頁數: ')\n",
    "        labelPage.place(x=155, y=160)\n",
    "\n",
    "        \n",
    "        self.varKeyWord = tk.StringVar()\n",
    "        self.varPage = tk.StringVar()\n",
    "        self.entryKeyWord = tk.Entry(self.window, show=None, font=('Arial', 16), textvariable=self.varKeyWord)\n",
    "        self.entryPage = tk.Entry(self.window, show=None, font=('Arial', 16), textvariable=self.varPage)\n",
    "\n",
    "        \n",
    "        self.entryKeyWord.place(x=155, y=130)\n",
    "        self.entryPage.place(x=155, y=180)\n",
    "\n",
    "\n",
    "        buttonSearch = tk.Button(self.window, text='Search', font=('Arial', 16), width=10, height=1, command=self.searchPage)\n",
    "        buttonSearch.place(x=110, y=228)\n",
    "\n",
    "        buttonExit = tk.Button(self.window, text='Exit', font=('Arial', 16), width=10, height=1, command=self.ExitWindow)\n",
    "        buttonExit.place(x=275, y=228)\n",
    "\n",
    "\n",
    "        self.window.mainloop()\n",
    "\n",
    "\n",
    "    def print_selection(self):\n",
    "        self.labelSelect.config(text='Selected \"{}\"'.format(self.var_radio.get()))\n",
    "\n",
    "    def ExitWindow(self):\n",
    "        try:\n",
    "            self.window.destroy()\n",
    "        except:\n",
    "            pass\n",
    "    \n",
    "    def searchPage(self):\n",
    "        #self.window.withdraw()\n",
    "        dir_path = filedialog.askdirectory(parent=self.window, initialdir='~/')\n",
    "        self.radio = self.var_radio.get()\n",
    "        self.Keyword = self.varKeyWord.get()\n",
    "        self.Page = self.varPage.get()\n",
    "\n",
    "        if self.radio == 'Google News':\n",
    "            start_time = time.time()\n",
    "            GoogleNews.google(dir_path, self.Keyword, self.Page)\n",
    "            end_time = time.time()\n",
    "            duration = end_time - start_time\n",
    "            tk.messagebox.showinfo(title='reminder', message='共花費{}sec'.format(duration))\n",
    "\n",
    "        if self.radio == 'INSIDE News(AI)':\n",
    "            start_time = time.time()\n",
    "            INSIDENews.Inside(dir_path, self.Keyword, self.Page)\n",
    "            end_time = time.time()\n",
    "            duration = end_time - start_time\n",
    "            tk.messagebox.showinfo(title='reminder', message='共花費{}sec'.format(duration))\n",
    "\n",
    "\n"
   ]
  },
  {
   "cell_type": "code",
   "execution_count": null,
   "id": "52f87766-ff54-4c3c-8506-39c6e7bb4308",
   "metadata": {},
   "outputs": [
    {
     "name": "stderr",
     "output_type": "stream",
     "text": [
      "Exception in Tkinter callback\n",
      "Traceback (most recent call last):\n",
      "  File \"/Users/mars/opt/anaconda3/envs/GUI/lib/python3.8/tkinter/__init__.py\", line 1892, in __call__\n",
      "    return self.func(*args)\n",
      "  File \"<ipython-input-15-dc9098217b69>\", line 61, in searchPage\n",
      "    GoogleNews.google(dir_path, self.Keyword, self.Page)\n",
      "  File \"/Users/mars/Documents/multithreading/GoogleNews.py\", line 59, in google\n",
      "    next_url = base_url + next_page_html[0]['href']\n",
      "IndexError: list index out of range\n"
     ]
    }
   ],
   "source": [
    "app = App()"
   ]
  },
  {
   "cell_type": "code",
   "execution_count": 12,
   "id": "d4119357-ee7d-447d-a0a7-194f59cf211d",
   "metadata": {},
   "outputs": [],
   "source": []
  },
  {
   "cell_type": "code",
   "execution_count": null,
   "id": "95352727-e0d2-457f-b441-7d714e115518",
   "metadata": {},
   "outputs": [],
   "source": []
  }
 ],
 "metadata": {
  "kernelspec": {
   "display_name": "Python 3",
   "language": "python",
   "name": "python3"
  },
  "language_info": {
   "codemirror_mode": {
    "name": "ipython",
    "version": 3
   },
   "file_extension": ".py",
   "mimetype": "text/x-python",
   "name": "python",
   "nbconvert_exporter": "python",
   "pygments_lexer": "ipython3",
   "version": "3.8.8"
  }
 },
 "nbformat": 4,
 "nbformat_minor": 5
}
